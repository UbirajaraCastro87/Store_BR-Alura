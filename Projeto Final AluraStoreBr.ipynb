{
 "nbformat": 4,
 "nbformat_minor": 0,
 "metadata": {
  "colab": {
   "provenance": [
    {
     "file_id": "16vjTb8Xwry32Q8roRN8NRcsxrpyAkgvd",
     "timestamp": 1744744643272
    }
   ]
  },
  "kernelspec": {
   "name": "python3",
   "display_name": "Python 3"
  },
  "language_info": {
   "name": "python"
  }
 },
 "cells": [
  {
   "cell_type": "markdown",
   "source": [
    "### Importação dos dados\n",
    "\n"
   ],
   "metadata": {
    "id": "RhEdWd9YUR6H"
   }
  },
  {
   "cell_type": "code",
   "metadata": {
    "colab": {
     "base_uri": "https://localhost:8080/",
     "height": 206
    },
    "id": "T3EvaeQ_INIL",
    "outputId": "51c41aa4-034e-4b65-c2d8-55c5ca2b84bf",
    "executionInfo": {
     "status": "ok",
     "timestamp": 1744744019706,
     "user_tz": 180,
     "elapsed": 441,
     "user": {
      "displayName": "Ubirajara",
      "userId": "11915445896553762860"
     }
    },
    "ExecuteTime": {
     "end_time": "2025-04-16T18:35:00.248027Z",
     "start_time": "2025-04-16T18:34:58.150275Z"
    }
   },
   "source": [
    "import pandas as pd\n",
    "\n",
    "url = \"https://raw.githubusercontent.com/alura-es-cursos/challenge1-data-science/refs/heads/main/base-de-dados-challenge-1/loja_1.csv\"\n",
    "url2 = \"https://raw.githubusercontent.com/alura-es-cursos/challenge1-data-science/refs/heads/main/base-de-dados-challenge-1/loja_2.csv\"\n",
    "url3 = \"https://raw.githubusercontent.com/alura-es-cursos/challenge1-data-science/refs/heads/main/base-de-dados-challenge-1/loja_3.csv\"\n",
    "url4 = \"https://raw.githubusercontent.com/alura-es-cursos/challenge1-data-science/refs/heads/main/base-de-dados-challenge-1/loja_4.csv\"\n",
    "\n",
    "loja = pd.read_csv(url)\n",
    "loja2 = pd.read_csv(url2)\n",
    "loja3 = pd.read_csv(url3)\n",
    "loja4 = pd.read_csv(url4)\n",
    "\n",
    "loja.head()\n",
    "\n",
    "#colocando tudo em um frame so\n",
    "\n",
    "dados = pd.concat([loja, loja2, loja3, loja4])\n",
    "\n",
    "dados.head()"
   ],
   "outputs": [
    {
     "data": {
      "text/plain": [
       "                 Produto Categoria do Produto    Preço      Frete  \\\n",
       "0     Assistente virtual          eletronicos   219.08   9.249790   \n",
       "1         Mesa de jantar               moveis   256.35  11.234305   \n",
       "2      Jogo de tabuleiro           brinquedos   279.51  21.262681   \n",
       "3            Micro-ondas     eletrodomesticos  1009.99  54.667344   \n",
       "4  Cadeira de escritório               moveis   446.99  26.964689   \n",
       "\n",
       "  Data da Compra        Vendedor Local da compra  Avaliação da compra  \\\n",
       "0     16/01/2021     Pedro Gomes              SP                    4   \n",
       "1     18/05/2022  Beatriz Moraes              RJ                    1   \n",
       "2     15/03/2021      João Souza              DF                    1   \n",
       "3     03/05/2022      João Souza              RS                    4   \n",
       "4     07/11/2020   Larissa Alves              MG                    5   \n",
       "\n",
       "  Tipo de pagamento  Quantidade de parcelas    lat    lon  \n",
       "0    cartao_credito                       8 -22.19 -48.79  \n",
       "1    cartao_credito                       4 -22.25 -42.66  \n",
       "2    cartao_credito                       1 -15.83 -47.86  \n",
       "3            boleto                       1 -30.17 -53.50  \n",
       "4            boleto                       1 -18.10 -44.38  "
      ],
      "text/html": [
       "<div>\n",
       "<style scoped>\n",
       "    .dataframe tbody tr th:only-of-type {\n",
       "        vertical-align: middle;\n",
       "    }\n",
       "\n",
       "    .dataframe tbody tr th {\n",
       "        vertical-align: top;\n",
       "    }\n",
       "\n",
       "    .dataframe thead th {\n",
       "        text-align: right;\n",
       "    }\n",
       "</style>\n",
       "<table border=\"1\" class=\"dataframe\">\n",
       "  <thead>\n",
       "    <tr style=\"text-align: right;\">\n",
       "      <th></th>\n",
       "      <th>Produto</th>\n",
       "      <th>Categoria do Produto</th>\n",
       "      <th>Preço</th>\n",
       "      <th>Frete</th>\n",
       "      <th>Data da Compra</th>\n",
       "      <th>Vendedor</th>\n",
       "      <th>Local da compra</th>\n",
       "      <th>Avaliação da compra</th>\n",
       "      <th>Tipo de pagamento</th>\n",
       "      <th>Quantidade de parcelas</th>\n",
       "      <th>lat</th>\n",
       "      <th>lon</th>\n",
       "    </tr>\n",
       "  </thead>\n",
       "  <tbody>\n",
       "    <tr>\n",
       "      <th>0</th>\n",
       "      <td>Assistente virtual</td>\n",
       "      <td>eletronicos</td>\n",
       "      <td>219.08</td>\n",
       "      <td>9.249790</td>\n",
       "      <td>16/01/2021</td>\n",
       "      <td>Pedro Gomes</td>\n",
       "      <td>SP</td>\n",
       "      <td>4</td>\n",
       "      <td>cartao_credito</td>\n",
       "      <td>8</td>\n",
       "      <td>-22.19</td>\n",
       "      <td>-48.79</td>\n",
       "    </tr>\n",
       "    <tr>\n",
       "      <th>1</th>\n",
       "      <td>Mesa de jantar</td>\n",
       "      <td>moveis</td>\n",
       "      <td>256.35</td>\n",
       "      <td>11.234305</td>\n",
       "      <td>18/05/2022</td>\n",
       "      <td>Beatriz Moraes</td>\n",
       "      <td>RJ</td>\n",
       "      <td>1</td>\n",
       "      <td>cartao_credito</td>\n",
       "      <td>4</td>\n",
       "      <td>-22.25</td>\n",
       "      <td>-42.66</td>\n",
       "    </tr>\n",
       "    <tr>\n",
       "      <th>2</th>\n",
       "      <td>Jogo de tabuleiro</td>\n",
       "      <td>brinquedos</td>\n",
       "      <td>279.51</td>\n",
       "      <td>21.262681</td>\n",
       "      <td>15/03/2021</td>\n",
       "      <td>João Souza</td>\n",
       "      <td>DF</td>\n",
       "      <td>1</td>\n",
       "      <td>cartao_credito</td>\n",
       "      <td>1</td>\n",
       "      <td>-15.83</td>\n",
       "      <td>-47.86</td>\n",
       "    </tr>\n",
       "    <tr>\n",
       "      <th>3</th>\n",
       "      <td>Micro-ondas</td>\n",
       "      <td>eletrodomesticos</td>\n",
       "      <td>1009.99</td>\n",
       "      <td>54.667344</td>\n",
       "      <td>03/05/2022</td>\n",
       "      <td>João Souza</td>\n",
       "      <td>RS</td>\n",
       "      <td>4</td>\n",
       "      <td>boleto</td>\n",
       "      <td>1</td>\n",
       "      <td>-30.17</td>\n",
       "      <td>-53.50</td>\n",
       "    </tr>\n",
       "    <tr>\n",
       "      <th>4</th>\n",
       "      <td>Cadeira de escritório</td>\n",
       "      <td>moveis</td>\n",
       "      <td>446.99</td>\n",
       "      <td>26.964689</td>\n",
       "      <td>07/11/2020</td>\n",
       "      <td>Larissa Alves</td>\n",
       "      <td>MG</td>\n",
       "      <td>5</td>\n",
       "      <td>boleto</td>\n",
       "      <td>1</td>\n",
       "      <td>-18.10</td>\n",
       "      <td>-44.38</td>\n",
       "    </tr>\n",
       "  </tbody>\n",
       "</table>\n",
       "</div>"
      ]
     },
     "execution_count": 140,
     "metadata": {},
     "output_type": "execute_result"
    }
   ],
   "execution_count": 140
  },
  {
   "metadata": {
    "id": "NJen2QpBiAw-",
    "executionInfo": {
     "status": "ok",
     "timestamp": 1744744019707,
     "user_tz": 180,
     "elapsed": 5,
     "user": {
      "displayName": "Ubirajara",
      "userId": "11915445896553762860"
     }
    },
    "ExecuteTime": {
     "end_time": "2025-04-16T18:35:00.370699Z",
     "start_time": "2025-04-16T18:35:00.358506Z"
    }
   },
   "cell_type": "code",
   "source": [
    "\n",
    "# Função para encontrar o melhor vendedor\n",
    "def quemVenderMais(vendedores):\n",
    "    # Verificar se as colunas necessárias existem\n",
    "    if 'Vendedor' not in vendedores.columns or 'Preço' not in vendedores.columns:\n",
    "        print(\"Erro: As colunas 'Vendedor' e 'Preço' não estão presentes nos dados.\")\n",
    "        return None\n",
    "\n",
    "    # Agrupar e somar as vendas por vendedor\n",
    "    total_vendas = vendedores.groupby('Vendedor')['Preço'].sum()\n",
    "\n",
    "    # Identificar o vendedor com maior faturamento\n",
    "    melhor_vendedor = total_vendas.idxmax()\n",
    "    maior_valor = total_vendas.max()\n",
    "\n",
    "    print(f\"O melhor vendedor foi {melhor_vendedor} com um total de R${maior_valor:.2f}.\")\n",
    "    return melhor_vendedor, maior_valor\n",
    "\n",
    "# Chamando a função\n",
    "quemVenderMais(dados)\n"
   ],
   "outputs": [
    {
     "name": "stdout",
     "output_type": "stream",
     "text": [
      "O melhor vendedor foi Felipe Santos com um total de R$471727.50.\n"
     ]
    },
    {
     "data": {
      "text/plain": [
       "('Felipe Santos', np.float64(471727.5))"
      ]
     },
     "execution_count": 141,
     "metadata": {},
     "output_type": "execute_result"
    }
   ],
   "execution_count": 141
  },
  {
   "metadata": {
    "id": "MUB7w08diAWY",
    "executionInfo": {
     "status": "ok",
     "timestamp": 1744744019708,
     "user_tz": 180,
     "elapsed": 5,
     "user": {
      "displayName": "Ubirajara",
      "userId": "11915445896553762860"
     }
    },
    "ExecuteTime": {
     "end_time": "2025-04-16T18:35:00.558032Z",
     "start_time": "2025-04-16T18:35:00.543071Z"
    }
   },
   "cell_type": "code",
   "source": [
    "def compararVendas(vendedores):\n",
    "    # Verificar se as colunas necessárias existem\n",
    "    if 'Vendedor' not in vendedores.columns or 'Preço' not in vendedores.columns:\n",
    "        print(\"Erro: As colunas 'Vendedor' e 'Preço' não estão presentes nos dados.\")\n",
    "        return None\n",
    "\n",
    "    # Agrupar e somar as vendas por vendedor\n",
    "    total_vendas = vendedores.groupby('Vendedor')['Preço'].sum()\n",
    "\n",
    "    # Identificar o melhor vendedor\n",
    "    melhor_vendedor = total_vendas.idxmax()\n",
    "    maior_valor = total_vendas.max()\n",
    "\n",
    "    # Comparação com outros vendedores\n",
    "    print(f\"\\n📊 **Resumo das Vendas** 📊\")\n",
    "    print(\"---------------------------------\")\n",
    "    print(f\"🏆 Melhor Vendedor: {melhor_vendedor}\")\n",
    "    print(f\"💰 Total de Faturamento: R${maior_valor:,.2f}\")\n",
    "    print(\"---------------------------------\")\n",
    "    print(\"💡 Comparação com outros vendedores:\")\n",
    "\n",
    "    for vendedor, valor in total_vendas.items():\n",
    "        if vendedor != melhor_vendedor:\n",
    "            diferenca_percentual = ((maior_valor - valor) / maior_valor) * 100\n",
    "            print(f\"- {vendedor}: R${valor:,.2f} (Diferença: -{diferenca_percentual:.2f}%)\")\n",
    "        else:\n",
    "            print(f\"- {vendedor}: R${valor:,.2f} (Líder de vendas)\")\n",
    "\n",
    "    return total_vendas\n",
    "\n",
    "# Chamando a função\n",
    "compararVendas(dados)"
   ],
   "outputs": [
    {
     "name": "stdout",
     "output_type": "stream",
     "text": [
      "\n",
      "📊 **Resumo das Vendas** 📊\n",
      "---------------------------------\n",
      "🏆 Melhor Vendedor: Felipe Santos\n",
      "💰 Total de Faturamento: R$471,727.50\n",
      "---------------------------------\n",
      "💡 Comparação com outros vendedores:\n",
      "- Beatriz Moraes: R$403,594.08 (Diferença: -14.44%)\n",
      "- Bianca Santos: R$399,447.52 (Diferença: -15.32%)\n",
      "- Bruno Rodrigues: R$388,833.65 (Diferença: -17.57%)\n",
      "- Camila Ribeiro: R$404,245.51 (Diferença: -14.31%)\n",
      "- Felipe Santos: R$471,727.50 (Líder de vendas)\n",
      "- Isabella Pereira: R$391,225.41 (Diferença: -17.07%)\n",
      "- João Souza: R$411,416.10 (Diferença: -12.79%)\n",
      "- Juliana Costa: R$451,153.64 (Diferença: -4.36%)\n",
      "- Larissa Alves: R$466,258.85 (Diferença: -1.16%)\n",
      "- Lucas Oliveira: R$407,203.55 (Diferença: -13.68%)\n",
      "- Mariana Ferreira: R$377,735.58 (Diferença: -19.93%)\n",
      "- Pedro Gomes: R$417,803.49 (Diferença: -11.43%)\n",
      "- Rafael Costa: R$413,723.01 (Diferença: -12.30%)\n",
      "- Thiago Silva: R$467,122.90 (Diferença: -0.98%)\n"
     ]
    },
    {
     "data": {
      "text/plain": [
       "Vendedor\n",
       "Beatriz Moraes      403594.08\n",
       "Bianca Santos       399447.52\n",
       "Bruno Rodrigues     388833.65\n",
       "Camila Ribeiro      404245.51\n",
       "Felipe Santos       471727.50\n",
       "Isabella Pereira    391225.41\n",
       "João Souza          411416.10\n",
       "Juliana Costa       451153.64\n",
       "Larissa Alves       466258.85\n",
       "Lucas Oliveira      407203.55\n",
       "Mariana Ferreira    377735.58\n",
       "Pedro Gomes         417803.49\n",
       "Rafael Costa        413723.01\n",
       "Thiago Silva        467122.90\n",
       "Name: Preço, dtype: float64"
      ]
     },
     "execution_count": 142,
     "metadata": {},
     "output_type": "execute_result"
    }
   ],
   "execution_count": 142
  },
  {
   "cell_type": "markdown",
   "source": [
    "#1. Análise do faturamento\n"
   ],
   "metadata": {
    "id": "X62IW3KFUIYm"
   }
  },
  {
   "cell_type": "code",
   "source": [
    "\n",
    "\n",
    "# Verificar e encontrar o maior preço\n",
    "if 'Produto' in dados.columns and 'Preço' in dados.columns:\n",
    "    maior_preco = dados['Preço'].max()\n",
    "    unidade_maior_preco = dados[dados['Preço'] == maior_preco]['Produto'].values[0]\n",
    "\n",
    "    print(f\"\\n💰 O maior preço encontrado foi R${maior_preco:,.2f}, na unidade '{unidade_maior_preco}'.\")\n",
    "else:\n",
    "    print(\"Erro: As colunas 'Loja' ou 'Preço' não estão presentes nos dados.\")"
   ],
   "metadata": {
    "id": "KDyr8E71V3m-",
    "executionInfo": {
     "status": "ok",
     "timestamp": 1744744019712,
     "user_tz": 180,
     "elapsed": 8,
     "user": {
      "displayName": "Ubirajara",
      "userId": "11915445896553762860"
     }
    },
    "colab": {
     "base_uri": "https://localhost:8080/"
    },
    "outputId": "f649bde2-c775-4acb-cbfe-e84f6098477a",
    "ExecuteTime": {
     "end_time": "2025-04-16T18:35:00.720849Z",
     "start_time": "2025-04-16T18:35:00.713784Z"
    }
   },
   "outputs": [
    {
     "name": "stdout",
     "output_type": "stream",
     "text": [
      "\n",
      "💰 O maior preço encontrado foi R$3,969.38, na unidade 'TV Led UHD 4K'.\n"
     ]
    }
   ],
   "execution_count": 143
  },
  {
   "metadata": {
    "ExecuteTime": {
     "end_time": "2025-04-16T18:35:01.177030Z",
     "start_time": "2025-04-16T18:35:00.881552Z"
    }
   },
   "cell_type": "code",
   "source": [
    "#VERIFICANDO O FATURAMENTO DE CADA LOJA\n",
    "import pandas as pd\n",
    "\n",
    "# URLs dos arquivos CSV\n",
    "url1 = \"https://raw.githubusercontent.com/alura-es-cursos/challenge1-data-science/refs/heads/main/base-de-dados-challenge-1/loja_1.csv\"\n",
    "url2 = \"https://raw.githubusercontent.com/alura-es-cursos/challenge1-data-science/refs/heads/main/base-de-dados-challenge-1/loja_2.csv\"\n",
    "url3 = \"https://raw.githubusercontent.com/alura-es-cursos/challenge1-data-science/refs/heads/main/base-de-dados-challenge-1/loja_3.csv\"\n",
    "url4 = \"https://raw.githubusercontent.com/alura-es-cursos/challenge1-data-science/refs/heads/main/base-de-dados-challenge-1/loja_4.csv\"\n",
    "\n",
    "# Carregar os dados de cada loja\n",
    "loja1 = pd.read_csv(url1)\n",
    "loja2 = pd.read_csv(url2)\n",
    "loja3 = pd.read_csv(url3)\n",
    "loja4 = pd.read_csv(url4)\n",
    "\n",
    "# Função para calcular o faturamento de cada loja\n",
    "def faturamento(loja, nome_loja):\n",
    "        #(isinstance verificar se o objeto pertence a uma classe ou tupla)\n",
    "    if isinstance(loja, pd.DataFrame) and 'Preço' in loja.columns:\n",
    "        valor_faturamento = loja['Preço'].sum()\n",
    "        print(f\"Faturamento: {nome_loja} - R$ {valor_faturamento:.2f}\")\n",
    "        return valor_faturamento\n",
    "    else:\n",
    "        print(f\"Erro: A estrutura de dados fornecida para '{nome_loja}' não é um DataFrame válido ou não contém a coluna 'Preço'.\")\n",
    "        return None\n",
    "\n",
    "# Imprimindo o faturamento de cada loja\n",
    "faturamento_loja1 = faturamento(loja1, 'Unidade 1')\n",
    "faturamento_loja2 = faturamento(loja2, 'Unidade 2')\n",
    "faturamento_loja3 = faturamento(loja3, 'Unidade 3')\n",
    "faturamento_loja4 = faturamento(loja4, 'Unidade 4')\n",
    "\n"
   ],
   "outputs": [
    {
     "name": "stdout",
     "output_type": "stream",
     "text": [
      "Faturamento: Unidade 1 - R$ 1534509.12\n",
      "Faturamento: Unidade 2 - R$ 1488459.06\n",
      "Faturamento: Unidade 3 - R$ 1464025.03\n",
      "Faturamento: Unidade 4 - R$ 1384497.58\n"
     ]
    }
   ],
   "execution_count": 144
  },
  {
   "cell_type": "code",
   "source": [
    "\n",
    "#Importanto a biblioteca e carregando os dados\n",
    "import matplotlib.pyplot as plt\n",
    "\n",
    "def gerar_grafico(dados):\n",
    "\n",
    "    nomes_lojas = []\n",
    "    valores_faturamento = []\n",
    "\n",
    "    for loja, nome_loja in dados:\n",
    "        nomes_lojas.append(nome_loja)\n",
    "        valores_faturamento.append(loja['Preço'].sum())\n",
    "\n",
    "\n",
    "# Dados para o gráfico de pizza\n",
    "labels = ['Loja 1', 'Loja 2', 'Loja 3', 'Loja 4']\n",
    "valores = [faturamento_loja1,faturamento_loja2, faturamento_loja3, faturamento_loja4]\n",
    "cores = ['#ff9999', '#66b3ff', '#99ff99', '#ffcc99']\n",
    "\n",
    "# Criando o gráfico de pizza\n",
    "plt.figure(figsize=(8, 8))\n",
    "plt.pie(valores, labels=labels, colors=cores, autopct='%1.1f%%', startangle=90)\n",
    "\n",
    "# Adicionando título\n",
    "plt.title('Distribuição de Faturamento')\n",
    "\n",
    "# Exibindo o gráfico\n",
    "plt.show()\n"
   ],
   "metadata": {
    "colab": {
     "base_uri": "https://localhost:8080/",
     "height": 675
    },
    "id": "_oQ2OCXFrJvo",
    "executionInfo": {
     "status": "ok",
     "timestamp": 1744744019789,
     "user_tz": 180,
     "elapsed": 84,
     "user": {
      "displayName": "Ubirajara",
      "userId": "11915445896553762860"
     }
    },
    "outputId": "6f053251-7b5d-4267-d1de-837802f86335",
    "ExecuteTime": {
     "end_time": "2025-04-16T18:35:01.286326Z",
     "start_time": "2025-04-16T18:35:01.227435Z"
    }
   },
   "outputs": [
    {
     "data": {
      "text/plain": [
       "<Figure size 800x800 with 1 Axes>"
      ],
      "image/png": "[encoded data removed]"
     },
     "metadata": {},
     "output_type": "display_data"
    }
   ],
   "execution_count": 145
  },
  {
   "cell_type": "markdown",
   "source": [
    "# 2. Vendas por Categoria\n"
   ],
   "metadata": {
    "id": "2V_vcAPzWZmR"
   }
  },
  {
   "cell_type": "code",
   "source": [
    "import pandas as pd\n",
    "\n",
    "def faturamento_por_categoria(lojas, nomes_lojas, exibir_resultado=True):\n",
    "\n",
    "    resultados = {}\n",
    "\n",
    "    for loja, nome_loja in zip(lojas, nomes_lojas):\n",
    "        # Agrupando por categoria\n",
    "        quantidade_categoria = loja.groupby('Categoria do Produto').size().reset_index(name='Quantidade de Vendas')\n",
    "        # Ordenando pelo número de vendas\n",
    "        quantidade_categoria = quantidade_categoria.sort_values(by='Quantidade de Vendas', ascending=False)\n",
    "\n",
    "        # Exibição opcional do resultado\n",
    "        if exibir_resultado:\n",
    "            print(f'\\nCategorias mais populares - {nome_loja}:')\n",
    "            print(quantidade_categoria)\n",
    "\n",
    "        # Salvando no dicionário\n",
    "        resultados[nome_loja] = quantidade_categoria\n",
    "\n",
    "    return resultados\n",
    "\n",
    "lojas = [loja, loja2, loja3, loja4]  # Lista de DataFrames das lojas\n",
    "nomes_lojas = ['Loja 1', 'Loja 2', 'Loja 3', 'Loja 4']  # Lista dos nomes das lojas\n",
    "\n",
    "faturamentos = faturamento_por_categoria(lojas, nomes_lojas)"
   ],
   "metadata": {
    "id": "A34YupIuYhfF",
    "executionInfo": {
     "status": "ok",
     "timestamp": 1744744019804,
     "user_tz": 180,
     "elapsed": 14,
     "user": {
      "displayName": "Ubirajara",
      "userId": "11915445896553762860"
     }
    },
    "colab": {
     "base_uri": "https://localhost:8080/"
    },
    "outputId": "e67b71ae-eefe-40c2-85b0-a7fa067114b8",
    "ExecuteTime": {
     "end_time": "2025-04-16T18:35:01.379251Z",
     "start_time": "2025-04-16T18:35:01.360325Z"
    }
   },
   "outputs": [
    {
     "name": "stdout",
     "output_type": "stream",
     "text": [
      "\n",
      "Categorias mais populares - Loja 1:\n",
      "    Categoria do Produto  Quantidade de Vendas\n",
      "6                 moveis                   465\n",
      "2            eletronicos                   448\n",
      "0             brinquedos                   324\n",
      "1       eletrodomesticos                   312\n",
      "3        esporte e lazer                   284\n",
      "4  instrumentos musicais                   182\n",
      "5                 livros                   173\n",
      "7  utilidades domesticas                   171\n",
      "\n",
      "Categorias mais populares - Loja 2:\n",
      "    Categoria do Produto  Quantidade de Vendas\n",
      "6                 moveis                   442\n",
      "2            eletronicos                   422\n",
      "0             brinquedos                   313\n",
      "1       eletrodomesticos                   305\n",
      "3        esporte e lazer                   275\n",
      "4  instrumentos musicais                   224\n",
      "5                 livros                   197\n",
      "7  utilidades domesticas                   181\n",
      "\n",
      "Categorias mais populares - Loja 3:\n",
      "    Categoria do Produto  Quantidade de Vendas\n",
      "6                 moveis                   499\n",
      "2            eletronicos                   451\n",
      "0             brinquedos                   315\n",
      "1       eletrodomesticos                   278\n",
      "3        esporte e lazer                   277\n",
      "5                 livros                   185\n",
      "4  instrumentos musicais                   177\n",
      "7  utilidades domesticas                   177\n",
      "\n",
      "Categorias mais populares - Loja 4:\n",
      "    Categoria do Produto  Quantidade de Vendas\n",
      "6                 moveis                   480\n",
      "2            eletronicos                   451\n",
      "0             brinquedos                   338\n",
      "3        esporte e lazer                   277\n",
      "1       eletrodomesticos                   254\n",
      "7  utilidades domesticas                   201\n",
      "5                 livros                   187\n",
      "4  instrumentos musicais                   170\n"
     ]
    }
   ],
   "execution_count": 146
  },
  {
   "metadata": {
    "id": "yZR6cOjXYSk1",
    "executionInfo": {
     "status": "ok",
     "timestamp": 1744744019818,
     "user_tz": 180,
     "elapsed": 13,
     "user": {
      "displayName": "Ubirajara",
      "userId": "11915445896553762860"
     }
    },
    "ExecuteTime": {
     "end_time": "2025-04-16T18:35:01.438220Z",
     "start_time": "2025-04-16T18:35:01.436208Z"
    }
   },
   "cell_type": "code",
   "source": "",
   "outputs": [],
   "execution_count": null
  },
  {
   "cell_type": "markdown",
   "source": [
    "# 3. Média de Avaliação das Lojas"
   ],
   "metadata": {
    "id": "Rq6tU_xSY3jk"
   }
  },
  {
   "cell_type": "code",
   "source": [
    "\n",
    "def media(lojas, nomes_lojas, exibir_resultado=True):\n",
    "    resultados = {}\n",
    "\n",
    "    for loja, nome_loja in zip(lojas, nomes_lojas):\n",
    "        # Calcula a média de avaliação\n",
    "        media_loja = loja['Avaliação da compra'].mean()\n",
    "        resultados[nome_loja] = media_loja\n",
    "\n",
    "        # Exibe o resultado, se solicitado\n",
    "        if exibir_resultado:\n",
    "            print(f'Média da {nome_loja}: {media_loja:.2f}')\n",
    "\n",
    "    # Adiciona gráfico para visualizar os resultados\n",
    "    plt.figure(figsize=(10, 6))\n",
    "    plt.bar(resultados.keys(), resultados.values(), color=['#ff9999', '#66b3ff', '#99ff99', '#ffcc99'])\n",
    "    plt.title('Média de Avaliação por Loja')\n",
    "    plt.xlabel('Lojas')\n",
    "    plt.ylabel('Média de Avaliação')\n",
    "    plt.xticks(rotation=45)\n",
    "    plt.grid(axis='y', linestyle='--', alpha=0.7)\n",
    "    plt.tight_layout()\n",
    "    plt.show()\n",
    "\n",
    "    return resultados\n",
    "\n",
    "# Lista de DataFrames\n",
    "lojas = [loja, loja2, loja3, loja4]\n",
    "nomes_lojas = ['Loja 1', 'Loja 2', 'Loja 3', 'Loja 4']\n",
    "\n",
    "# Calculando as médias e exibindo o gráfico\n",
    "avaliacoes_medias = media(lojas, nomes_lojas)"
   ],
   "metadata": {
    "id": "bh3jjjJwY5MU",
    "executionInfo": {
     "status": "ok",
     "timestamp": 1744744019822,
     "user_tz": 180,
     "elapsed": 3,
     "user": {
      "displayName": "Ubirajara",
      "userId": "11915445896553762860"
     }
    },
    "colab": {
     "base_uri": "https://localhost:8080/"
    },
    "outputId": "c7b81f66-4dd9-44bb-bd2b-6ca5bdeef5d1",
    "ExecuteTime": {
     "end_time": "2025-04-16T18:35:01.594655Z",
     "start_time": "2025-04-16T18:35:01.491875Z"
    }
   },
   "outputs": [
    {
     "name": "stdout",
     "output_type": "stream",
     "text": [
      "Média da Loja 1: 3.98\n",
      "Média da Loja 2: 4.04\n",
      "Média da Loja 3: 4.05\n",
      "Média da Loja 4: 4.00\n"
     ]
    },
    {
     "data": {
      "text/plain": [
       "<Figure size 1000x600 with 1 Axes>"
      ],
      "image/png": "[encoded data removed]"
     },
     "metadata": {},
     "output_type": "display_data"
    }
   ],
   "execution_count": 147
  },
  {
   "metadata": {
    "id": "I0KkjPoTY88F",
    "executionInfo": {
     "status": "ok",
     "timestamp": 1744744019824,
     "user_tz": 180,
     "elapsed": 1,
     "user": {
      "displayName": "Ubirajara",
      "userId": "11915445896553762860"
     }
    },
    "ExecuteTime": {
     "end_time": "2025-04-16T18:35:01.660966Z",
     "start_time": "2025-04-16T18:35:01.658931Z"
    }
   },
   "cell_type": "code",
   "source": "",
   "outputs": [],
   "execution_count": null
  },
  {
   "cell_type": "markdown",
   "source": [
    "# 4. Produtos Mais e Menos Vendidos"
   ],
   "metadata": {
    "id": "DmNp1KPBZCm-"
   }
  },
  {
   "cell_type": "code",
   "source": [
    "import pandas as pd\n",
    "\n",
    "def produtos_mais_menos_vendidos_por_loja(lojas):\n",
    "    resultados = []\n",
    "\n",
    "    for loja, nome_loja in lojas:\n",
    "        # Agrupando por produto e somando os valores de vendas\n",
    "        vendas_produto = loja.groupby('Produto')['Preço'].sum()\n",
    "\n",
    "        # Produto mais vendido\n",
    "        produto_mais_vendido = {\n",
    "            'Produto': vendas_produto.idxmax(),\n",
    "            'Total': vendas_produto.max()\n",
    "        }\n",
    "\n",
    "        # Produto menos vendido\n",
    "        produto_menos_vendido = {\n",
    "            'Produto': vendas_produto.idxmin(),\n",
    "            'Total': vendas_produto.min()\n",
    "        }\n",
    "\n",
    "        # Adicionando resultados estruturados para cada loja\n",
    "        resultados.append({\n",
    "            'Loja': nome_loja,\n",
    "            'Produto Mais Vendido': produto_mais_vendido['Produto'],\n",
    "            'Total Mais Vendido (R$)': produto_mais_vendido['Total'],\n",
    "            'Produto Menos Vendido': produto_menos_vendido['Produto'],\n",
    "            'Total Menos Vendido (R$)': produto_menos_vendido['Total']\n",
    "        })\n",
    "\n",
    "    # Converter os resultados para um DataFrame\n",
    "    tabela_resultados = pd.DataFrame(resultados)\n",
    "\n",
    "    # Exibir a tabela\n",
    "    print(\"\\n📊 Resultados de Produtos Vendidos por Loja:\")\n",
    "    print(tabela_resultados)\n",
    "\n",
    "    return tabela_resultados\n",
    "\n",
    "\n",
    "# Lista de lojas e seus nomes\n",
    "lojas = [(loja, 'Loja 1'), (loja2, 'Loja 2'), (loja3, 'Loja 3'), (loja4, 'Loja 4')]\n",
    "\n",
    "# Chamando a função e exibindo os resultados em uma tabela\n",
    "resultados_tabela = produtos_mais_menos_vendidos_por_loja(lojas)"
   ],
   "metadata": {
    "id": "qoyjqijQZHfF",
    "executionInfo": {
     "status": "ok",
     "timestamp": 1744744019885,
     "user_tz": 180,
     "elapsed": 51,
     "user": {
      "displayName": "Ubirajara",
      "userId": "11915445896553762860"
     }
    },
    "colab": {
     "base_uri": "https://localhost:8080/"
    },
    "outputId": "cd4dcbdb-3ea8-4f00-9e79-e1a01202ecd4",
    "ExecuteTime": {
     "end_time": "2025-04-16T18:35:01.734304Z",
     "start_time": "2025-04-16T18:35:01.719978Z"
    }
   },
   "outputs": [
    {
     "name": "stdout",
     "output_type": "stream",
     "text": [
      "\n",
      "📊 Resultados de Produtos Vendidos por Loja:\n",
      "     Loja Produto Mais Vendido  Total Mais Vendido (R$) Produto Menos Vendido  \\\n",
      "0  Loja 1        TV Led UHD 4K                189534.28        Corda de pular   \n",
      "1  Loja 2     Celular Plus X42                150967.83       Cubo mágico 8x8   \n",
      "2  Loja 3            Geladeira                133185.99       Cubo mágico 8x8   \n",
      "3  Loja 4     Celular Plus X42                128930.07        Corda de pular   \n",
      "\n",
      "   Total Menos Vendido (R$)  \n",
      "0                    870.89  \n",
      "1                    858.22  \n",
      "2                    853.81  \n",
      "3                    939.74  \n"
     ]
    }
   ],
   "execution_count": 148
  },
  {
   "cell_type": "markdown",
   "source": [
    "# 5. Frete Médio por Loja\n"
   ],
   "metadata": {
    "id": "Fl0cGi3bZKqU"
   }
  },
  {
   "cell_type": "code",
   "source": [
    "def media_loja_frete(lojas, exibir_resultado=True):\n",
    "\n",
    "    dados = {}\n",
    "\n",
    "    for loja, nome_loja in lojas:\n",
    "        # Calculando a média do frete\n",
    "        media_frete = loja['Frete'].mean()\n",
    "        dados[nome_loja] = media_frete\n",
    "\n",
    "        # Exibindo o resultado, se solicitado\n",
    "        if exibir_resultado:\n",
    "            print(f'Média de Frete para {nome_loja}: R$ {media_frete:.2f}')\n",
    "\n",
    "    return dados\n",
    "\n",
    "\n",
    "# Lista de lojas e seus nomes\n",
    "lojas = [(loja, 'Loja 1'), (loja2, 'Loja 2'), (loja3, 'Loja 3'), (loja4, 'Loja 4')]\n",
    "\n",
    "# Chamando a função e armazenando os resultados\n",
    "medias_frete = media_loja_frete(lojas)\n",
    "\n",
    "# Exemplo de exibição dos resultados armazenados\n",
    "print(\"\\nResumo das médias de frete por loja:\")\n",
    "for nome_loja, media in medias_frete.items():\n",
    "    print(f'{nome_loja}: R$ {media:.2f}')"
   ],
   "metadata": {
    "id": "S2JeaCykZNy9",
    "executionInfo": {
     "status": "ok",
     "timestamp": 1744744094843,
     "user_tz": 180,
     "elapsed": 4,
     "user": {
      "displayName": "Ubirajara",
      "userId": "11915445896553762860"
     }
    },
    "colab": {
     "base_uri": "https://localhost:8080/"
    },
    "outputId": "e9f9000f-3272-4159-c8b9-c7eedaf2c96e",
    "ExecuteTime": {
     "end_time": "2025-04-16T18:35:01.790551Z",
     "start_time": "2025-04-16T18:35:01.784262Z"
    }
   },
   "outputs": [
    {
     "name": "stdout",
     "output_type": "stream",
     "text": [
      "Média de Frete para Loja 1: R$ 34.69\n",
      "Média de Frete para Loja 2: R$ 33.62\n",
      "Média de Frete para Loja 3: R$ 33.07\n",
      "Média de Frete para Loja 4: R$ 31.28\n",
      "\n",
      "Resumo das médias de frete por loja:\n",
      "Loja 1: R$ 34.69\n",
      "Loja 2: R$ 33.62\n",
      "Loja 3: R$ 33.07\n",
      "Loja 4: R$ 31.28\n"
     ]
    }
   ],
   "execution_count": 149
  },
  {
   "cell_type": "code",
   "source": [
    "import pandas as pd\n",
    "import matplotlib.pyplot as plt\n",
    "\n",
    "def gerar_grafico_com_pandas(medias_frete):\n",
    "\n",
    "    # Convertendo os dados em um DataFrame\n",
    "    df_fretes = pd.DataFrame(list(medias_frete.items()), columns=['Loja', 'Média de Frete'])\n",
    "\n",
    "    # Gerando o gráfico de barras\n",
    "    df_fretes.plot(x='Loja', y='Média de Frete', kind='bar', legend=False, color='skyblue', figsize=(8, 6))\n",
    "    plt.title('Média de Frete por Loja', fontsize=16)\n",
    "    plt.xlabel('Loja', fontsize=12)\n",
    "    plt.ylabel('Média de Frete (R$)', fontsize=12)\n",
    "    plt.xticks(rotation=45, fontsize=10)\n",
    "    plt.tight_layout()\n",
    "\n",
    "    # Exibindo o gráfico\n",
    "    plt.show()\n",
    "\n",
    "\n",
    "# Chamando a função com os dados das médias calculadas\n",
    "gerar_grafico_com_pandas(medias_frete)"
   ],
   "metadata": {
    "id": "0tSdCie9ZQlt",
    "executionInfo": {
     "status": "ok",
     "timestamp": 1744744369269,
     "user_tz": 180,
     "elapsed": 223,
     "user": {
      "displayName": "Ubirajara",
      "userId": "11915445896553762860"
     }
    },
    "colab": {
     "base_uri": "https://localhost:8080/",
     "height": 607
    },
    "outputId": "938de1f7-3a47-44b5-d00a-31a831651681",
    "ExecuteTime": {
     "end_time": "2025-04-16T18:35:01.941805Z",
     "start_time": "2025-04-16T18:35:01.850255Z"
    }
   },
   "outputs": [
    {
     "data": {
      "text/plain": [
       "<Figure size 800x600 with 1 Axes>"
      ],
      "image/png": "[encoded data removed]"
     },
     "metadata": {},
     "output_type": "display_data"
    }
   ],
   "execution_count": 150
  },
  {
   "metadata": {},
   "cell_type": "markdown",
   "source": "Resultado final da Analize: Recomendos que o Senhor venda a loja 4 e mantenha o vendor Felipe Santos pois o mesmo e quem vender mais, recomendamos que melhores a qualidade do atendimento na loja1 pos a mesma e que tem o menor avalição do clientes"
  }
 ]
}
